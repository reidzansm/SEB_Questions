{
 "cells": [
  {
   "cell_type": "markdown",
   "id": "abstract-diving",
   "metadata": {},
   "source": [
    "# Question 1"
   ]
  },
  {
   "cell_type": "code",
   "execution_count": 400,
   "id": "pursuant-toilet",
   "metadata": {},
   "outputs": [],
   "source": [
    "rules = {}\n",
    "\n",
    "# read the box color rules from input.txt\n",
    "with open(\"input.txt\") as f:\n",
    "    for line in f:\n",
    "        key, val = line.rstrip(\"\\n.\").replace(' boxes','').replace(' box','').split(' contain ')\n",
    "        rules[key] = [s.strip().lstrip(\"1234567890\").strip() for s in val.split(',')]\n",
    "\n",
    "# function to invert dictionary\n",
    "def invert_d(rules): \n",
    "    inv = dict() \n",
    "    for key in rules: \n",
    "        for item in rules[key]:\n",
    "            if item not in inv: \n",
    "                inv[item] = [key] \n",
    "            else: \n",
    "                inv[item].append(key) \n",
    "    return inv\n",
    "\n",
    "# invert box function dictionary\n",
    "rules = invert_d(rules)"
   ]
  },
  {
   "cell_type": "code",
   "execution_count": 403,
   "id": "covered-carpet",
   "metadata": {},
   "outputs": [
    {
     "name": "stdout",
     "output_type": "stream",
     "text": [
      "230\n"
     ]
    }
   ],
   "source": [
    "# set of visited boxes\n",
    "color_visited = set()\n",
    "\n",
    "# function to iterate thorugh the graph of rules to find the boxes leading to the shiny gold box\n",
    "def box_gold(color_visited, rules, box):\n",
    "    if box not in color_visited:\n",
    "        color_visited.add(box)\n",
    "        for neighbour in rules[box]:\n",
    "            if neighbour in rules:\n",
    "                box_gold(color_visited, rules, neighbour)\n",
    "            else:\n",
    "                color_visited.add(neighbour)\n",
    "\n",
    "# apply box_gold function to find boxes that eventually contain gold boxes\n",
    "box_gold(color_visited, rules, 'shiny gold')\n",
    "\n",
    "# number of boxes that will eventually contain shiny gold box/boxes\n",
    "print(len(color_visited))"
   ]
  },
  {
   "cell_type": "markdown",
   "id": "gorgeous-frederick",
   "metadata": {},
   "source": [
    "# Question 2"
   ]
  },
  {
   "cell_type": "code",
   "execution_count": 404,
   "id": "satellite-heritage",
   "metadata": {},
   "outputs": [],
   "source": [
    "rules = {}\n",
    "\n",
    "# read the box color rules from input.txt\n",
    "with open(\"input.txt\") as f:\n",
    "    for line in f:\n",
    "        key, val = line.rstrip(\"\\n.\").replace(' boxes','').replace(' box','').split(' contain ')\n",
    "        rules[key] = [s.strip() for s in val.split(',')]\n",
    "\n",
    "# remove dictionary key-value pairs containing no boxes\n",
    "for key,val in rules.items():\n",
    "    if 'no other' in val:\n",
    "        val.remove('no other')  "
   ]
  },
  {
   "cell_type": "code",
   "execution_count": 406,
   "id": "integral-profit",
   "metadata": {},
   "outputs": [
    {
     "name": "stdout",
     "output_type": "stream",
     "text": [
      "6683\n"
     ]
    }
   ],
   "source": [
    "# number of boxes inside the shiny gold box\n",
    "total_count = 0\n",
    "\n",
    "# function to count the number of boxes inside the shiny gold box\n",
    "def box_count(rules, node,parent_count=1,multiplier=1):\n",
    "    global total_count\n",
    "    multiplier = multiplier*int(parent_count)\n",
    "    for neighbour in rules[node]:\n",
    "        total_count = total_count + int(neighbour.split(\" \",1)[0])*multiplier\n",
    "        if neighbour.split(\" \",1)[1] in rules:\n",
    "            parent_count=neighbour.split(\" \",1)[0]\n",
    "            box_count(rules, neighbour.split(\" \",1)[1],parent_count,multiplier)\n",
    "                \n",
    "# apply box_gold function to find gold boxes\n",
    "box_count(rules, 'shiny gold')\n",
    "\n",
    "# total count of boxes inside one shiny gold box\n",
    "print(total_count)"
   ]
  }
 ],
 "metadata": {
  "kernelspec": {
   "display_name": "Python for Data Science",
   "language": "python",
   "name": "pyds"
  },
  "language_info": {
   "codemirror_mode": {
    "name": "ipython",
    "version": 3
   },
   "file_extension": ".py",
   "mimetype": "text/x-python",
   "name": "python",
   "nbconvert_exporter": "python",
   "pygments_lexer": "ipython3",
   "version": "3.8.5"
  }
 },
 "nbformat": 4,
 "nbformat_minor": 5
}
